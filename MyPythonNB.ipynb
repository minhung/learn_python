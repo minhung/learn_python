{
 "cells": [
  {
   "cell_type": "markdown",
   "metadata": {},
   "source": [
    "以下的markdown指令可以產生底下cell的標題\n",
    "# Your Name\n",
    "##學號"
   ]
  },
  {
   "cell_type": "markdown",
   "metadata": {},
   "source": [
    "# Your Name\n",
    "## 學號"
   ]
  },
  {
   "cell_type": "code",
   "execution_count": 20,
   "metadata": {
    "collapsed": true
   },
   "outputs": [],
   "source": [
    "skill_completed = \"Python Syntax\"\n",
    "exercises_completed  = 15\n",
    "#The amount of points for each exercise may change, because points don't exist yet\n",
    "points_per_exercise = 5\n",
    "point_total = 100"
   ]
  },
  {
   "cell_type": "code",
   "execution_count": 21,
   "metadata": {},
   "outputs": [
    {
     "name": "stdout",
     "output_type": "stream",
     "text": [
      "I got 175 points!\n"
     ]
    }
   ],
   "source": [
    "point_total +=  exercises_completed * points_per_exercise\n",
    "\n",
    "print(\"I got \"+str(point_total)+\" points!\")"
   ]
  },
  {
   "cell_type": "code",
   "execution_count": 18,
   "metadata": {},
   "outputs": [
    {
     "name": "stdout",
     "output_type": "stream",
     "text": [
      "10010\n",
      "110\n"
     ]
    }
   ],
   "source": [
    "#number1 = \"100\"\n",
    "number2 = \"10\"\n",
    "\n",
    "string_addition = number1 + number2 \n",
    "print(string_addition)\n",
    "int_addition = int(number1) + int(number2)\n",
    "print(int_addition)"
   ]
  },
  {
   "cell_type": "code",
   "execution_count": 19,
   "metadata": {},
   "outputs": [
    {
     "name": "stdout",
     "output_type": "stream",
     "text": [
      "I am 14 years old!\n"
     ]
    }
   ],
   "source": [
    "float_1 = 0.25\n",
    "float_2 = 40.0\n",
    "\n",
    "age = 14\n",
    "print (\"I am \" + str(age) + \" years old!\")\n",
    "\n",
    "product = float_1*float_2\n",
    "\n",
    "big_string = \"The product was \"+str(product)"
   ]
  },
  {
   "cell_type": "code",
   "execution_count": null,
   "metadata": {
    "collapsed": true
   },
   "outputs": [],
   "source": []
  }
 ],
 "metadata": {
  "kernelspec": {
   "display_name": "Python 3",
   "language": "python",
   "name": "python3"
  },
  "language_info": {
   "codemirror_mode": {
    "name": "ipython",
    "version": 3
   },
   "file_extension": ".py",
   "mimetype": "text/x-python",
   "name": "python",
   "nbconvert_exporter": "python",
   "pygments_lexer": "ipython3",
   "version": "3.6.3"
  }
 },
 "nbformat": 4,
 "nbformat_minor": 2
}
